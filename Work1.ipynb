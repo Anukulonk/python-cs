{
 "cells": [
  {
   "cell_type": "code",
   "execution_count": 2,
   "id": "6e5a0e75",
   "metadata": {},
   "outputs": [
    {
     "name": "stdout",
     "output_type": "stream",
     "text": [
      "เลือกการดำเนินการ:\n",
      "+ สำหรับ บวก\n",
      "- สำหรับ ลบ\n",
      "* สำหรับ คูณ\n",
      "/ สำหรับ หาร\n",
      "** สำหรับ ยกกำลัง\n",
      "ผลลัพธ์ = 7.0\n"
     ]
    }
   ],
   "source": [
    "def calculator(operation, num1, num2):\n",
    "    if operation == '+':\n",
    "        return num1 + num2\n",
    "    elif operation == '-':\n",
    "        return num1 - num2\n",
    "    elif operation == '*':\n",
    "        return num1 * num2\n",
    "    elif operation == '/':\n",
    "        if num2 != 0:\n",
    "            return num1 / num2\n",
    "        else:\n",
    "            return \"ไม่สามารถหารด้วยศูนย์ได้\"\n",
    "    elif operation == '**':\n",
    "        return num1 ** num2\n",
    "    else:\n",
    "        return \"เครื่องหมายไม่ถูกต้อง\"\n",
    "\n",
    "print(\"เลือกการดำเนินการ:\")\n",
    "print(\"+ สำหรับ บวก\")\n",
    "print(\"- สำหรับ ลบ\")\n",
    "print(\"* สำหรับ คูณ\")\n",
    "print(\"/ สำหรับ หาร\")\n",
    "print(\"** สำหรับ ยกกำลัง\")\n",
    "\n",
    "op = input(\"ใส่เครื่องหมายการคำนวณ: \")\n",
    "\n",
    "a = float(input(\"กรอกตัวเลขตัวที่ 1: \"))\n",
    "b = float(input(\"กรอกตัวเลขตัวที่ 2: \"))\n",
    "\n",
    "result = calculator(op, a, b)\n",
    "print(\"ผลลัพธ์ =\", result)"
   ]
  }
 ],
 "metadata": {
  "kernelspec": {
   "display_name": "base",
   "language": "python",
   "name": "python3"
  },
  "language_info": {
   "codemirror_mode": {
    "name": "ipython",
    "version": 3
   },
   "file_extension": ".py",
   "mimetype": "text/x-python",
   "name": "python",
   "nbconvert_exporter": "python",
   "pygments_lexer": "ipython3",
   "version": "3.13.5"
  }
 },
 "nbformat": 4,
 "nbformat_minor": 5
}
