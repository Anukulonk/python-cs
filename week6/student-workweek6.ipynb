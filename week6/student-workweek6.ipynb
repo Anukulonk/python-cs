{
 "cells": [
  {
   "cell_type": "code",
   "execution_count": null,
   "id": "68c33e6a",
   "metadata": {},
   "outputs": [
    {
     "name": "stdout",
     "output_type": "stream",
     "text": [
      "\n",
      "รายชื่อนักเรียนที่มีคะแนนน้อยกว่า 50 คะแนน :\n",
      "Student(name=กิตติศักดิ์, score=45)\n",
      "Student(name=Tawan, score=20.0)\n",
      "\n",
      "รายชื่อนักเรียนพร้อมเกรด :\n",
      "อนุกูล : 65 (C)\n",
      "กิตติศักดิ์ : 45 (F)\n",
      "ตะวัน : 85 (A)\n",
      "Anukul : 50.0 (D)\n",
      "Tawan : 20.0 (F)\n",
      "Kittisak : 80.0 (A)\n",
      "\n",
      "เรียงลำดับนักเรียนจากคะแนนมากไปน้อย :\n",
      "Student(name=ตะวัน, score=85)\n",
      "Student(name=Kittisak, score=80.0)\n",
      "Student(name=อนุกูล, score=65)\n",
      "Student(name=Anukul, score=50.0)\n",
      "Student(name=กิตติศักดิ์, score=45)\n",
      "Student(name=Tawan, score=20.0)\n"
     ]
    }
   ],
   "source": [
    "class Student:\n",
    "    def __init__(self, name, score):\n",
    "        self.name = name\n",
    "        self.score = score\n",
    "        \n",
    "    def __repr__(self):\n",
    "        return f\"Student(name={self.name}, score={self.score})\"\n",
    "    \n",
    "students = [\n",
    "        Student(\"อนุกูล\", 65),\n",
    "        Student(\"กิตติศักดิ์\", 45),\n",
    "        Student(\"ตะวัน\", 85),\n",
    "        ]\n",
    "\n",
    "\n",
    "while True:\n",
    "    name = input(\"ชื่อของนักเรียน (หรือ 'stop' เพื่อออกจากโปรแกรม) : \")\n",
    "    if name.lower() == \"stop\":\n",
    "        break\n",
    "    \n",
    "    score_text = input(\"ป้อนคะแนนที่ได้ : \")\n",
    "    \n",
    "    if score_text.replace('.', '', 1).isdigit():\n",
    "        score = float(score_text)\n",
    "        students.append(Student(name, score))\n",
    "    elif score_text.isdigit():\n",
    "        score = int(score_text)\n",
    "        students.append(Student(name, score))\n",
    "    else:\n",
    "        print(\"กรุณาป้อนคะแนนเป็นตัวเลขเท่านั้น\")\n",
    "        \n",
    "print(\"\\nรายชื่อนักเรียนที่มีคะแนนน้อยกว่า 50 คะแนน :\")\n",
    "low_scores = list(filter(lambda s: s.score < 50, students))\n",
    "for s in low_scores:\n",
    "    print(s)\n",
    "    \n",
    "print(\"\\nรายชื่อนักเรียนพร้อมคะแนนและเกรด :\")\n",
    "def score_to_grade(student):\n",
    "    if student.score >= 80:\n",
    "        grade = \"A\"\n",
    "    elif student.score >= 70:\n",
    "        grade = \"B\"\n",
    "    elif student.score >= 60:\n",
    "        grade = \"C\"\n",
    "    elif student.score >= 50:\n",
    "        grade = \"D\"\n",
    "    else:\n",
    "        grade = \"F\"\n",
    "    return f\"{student.name} : {student.score} ({grade})\"\n",
    "\n",
    "grades = list(map(score_to_grade, students))\n",
    "for g in grades:\n",
    "    print(g)\n",
    "    \n",
    "print(\"\\nเรียงลำดับนักเรียนจากคะแนนมากไปน้อย :\")\n",
    "sorted_students = sorted(students, key=lambda s: s.score, reverse=True)\n",
    "for s in sorted_students:\n",
    "    print(s)"
   ]
  }
 ],
 "metadata": {
  "kernelspec": {
   "display_name": "base",
   "language": "python",
   "name": "python3"
  },
  "language_info": {
   "codemirror_mode": {
    "name": "ipython",
    "version": 3
   },
   "file_extension": ".py",
   "mimetype": "text/x-python",
   "name": "python",
   "nbconvert_exporter": "python",
   "pygments_lexer": "ipython3",
   "version": "3.13.5"
  }
 },
 "nbformat": 4,
 "nbformat_minor": 5
}
