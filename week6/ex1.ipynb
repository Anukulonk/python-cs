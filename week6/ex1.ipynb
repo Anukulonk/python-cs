{
 "cells": [
  {
   "cell_type": "code",
   "execution_count": 2,
   "id": "915c0e9c",
   "metadata": {},
   "outputs": [
    {
     "name": "stdout",
     "output_type": "stream",
     "text": [
      "0\n",
      "1\n",
      "2\n",
      "3\n",
      "4\n",
      "5\n"
     ]
    }
   ],
   "source": [
    "for x in range(6):\n",
    "    print(x)"
   ]
  },
  {
   "cell_type": "code",
   "execution_count": 3,
   "id": "304eb5f3",
   "metadata": {},
   "outputs": [
    {
     "name": "stdout",
     "output_type": "stream",
     "text": [
      "1\n",
      "6\n",
      "11\n",
      "16\n",
      "21\n",
      "26\n"
     ]
    }
   ],
   "source": [
    "for x in range(1,30,5):\n",
    "    print(x)"
   ]
  },
  {
   "cell_type": "code",
   "execution_count": 4,
   "id": "d0ee9f31",
   "metadata": {},
   "outputs": [
    {
     "name": "stdout",
     "output_type": "stream",
     "text": [
      "0\n",
      "1\n",
      "2\n"
     ]
    }
   ],
   "source": [
    "for x in range(6):\n",
    "    if x == 3:\n",
    "        break\n",
    "    print(x)\n",
    "else:\n",
    "    print(\"Finally Finished\")"
   ]
  },
  {
   "cell_type": "code",
   "execution_count": null,
   "id": "2eb1e329",
   "metadata": {},
   "outputs": [
    {
     "name": "stdout",
     "output_type": "stream",
     "text": [
      "apple  is color  red\n",
      "banana  is color  yellow\n",
      "cherry  is color  purple\n"
     ]
    }
   ],
   "source": [
    "fruits = [\"apple\", \"banana\", \"berry\"]\n",
    "adj = [\"red\", \"yellow\", \"purple\"]\n",
    "j=0\n",
    "for i in fruits:\n",
    "        print(i, \" is color \", adj[j])\n",
    "        j = j+1"
   ]
  },
  {
   "cell_type": "code",
   "execution_count": null,
   "id": "bca208ae",
   "metadata": {},
   "outputs": [],
   "source": [
    "fruits = []\n",
    "adj = []\n",
    "j=0\n",
    "for i in range(3):\n",
    "        inp1 = input(\"Fruit name is : \")\n",
    "        fruits.append(inp1)\n",
    "\n",
    "        inp2 = input(\"Color name is : \")\n",
    "        adj.append(inp2)\n",
    "        #print(i, \" is color \", adj[j])\n",
    "        j = j+1"
   ]
  },
  {
   "cell_type": "code",
   "execution_count": 12,
   "id": "4b1a49dc",
   "metadata": {},
   "outputs": [
    {
     "name": "stdout",
     "output_type": "stream",
     "text": [
      "range(0, 6)\n"
     ]
    }
   ],
   "source": [
    "print(range(6))"
   ]
  },
  {
   "cell_type": "code",
   "execution_count": 2,
   "id": "fe21c6c2",
   "metadata": {},
   "outputs": [],
   "source": [
    "fruits = []\n",
    "adj = []\n",
    "j=0\n",
    "\n",
    "while True:\n",
    "    inp_state = input(\"press Q for end, or Enter to Any Input\")\n",
    "    if (inp_state.lower() == \"q\"):\n",
    "        break\n",
    "    else:\n",
    "        inp1 = input(\"Fruit name is : \")\n",
    "        fruits.append(inp1)\n",
    "\n",
    "        inp2 = input(\"Color name is : \")\n",
    "        adj.append(inp2)"
   ]
  },
  {
   "cell_type": "code",
   "execution_count": null,
   "id": "85380b6b",
   "metadata": {},
   "outputs": [],
   "source": [
    "fruits = []\n",
    "adj = []\n",
    "j=0\n",
    "loop = True\n",
    "while loop:\n",
    "        inp_check = input(\"พิมพ์ a เพื่อป้อนข้อมูลหรือ พิมพ์ q เพื่อออกจากโปรแกรม\")\n",
    "        if (inp_check.lower() == \"a\"):\n",
    "            loop = True\n",
    "            inp1 = input(\"Fruit name is : \")\n",
    "            fruits.append(inp1)\n",
    "\n",
    "            inp2 = input(\"Color name is : \")\n",
    "            adj.append(inp2)\n",
    "        #print(i, \" is color \", adj[j])\n",
    "\n",
    "        elif (inp_check.lower() == \"q\"):\n",
    "            loop = False\n",
    "        else:\n",
    "            print(\"กรุณาพิมพ์ a หรือ q เท่านั้น\")\n",
    "            loop = True"
   ]
  },
  {
   "cell_type": "code",
   "execution_count": null,
   "id": "eddaee1e",
   "metadata": {},
   "outputs": [
    {
     "name": "stdout",
     "output_type": "stream",
     "text": [
      "50\n",
      "1.5\n"
     ]
    }
   ],
   "source": [
    "#lambda\n",
    "x = lambda a : a *10\n",
    "print(x(5))\n",
    "\n",
    "x = lambda x1, y1, x2, y2, x3, y3 : 0.5 * abs(x1*(y2-y3) + x2*(y3-y1) + x3*(y1-y2))\n",
    "print(x(1,1, 4,1, 1,2))"
   ]
  },
  {
   "cell_type": "code",
   "execution_count": 21,
   "id": "8b8857b0",
   "metadata": {},
   "outputs": [
    {
     "name": "stdout",
     "output_type": "stream",
     "text": [
      "sorted by Number :  [('cherry', 9), ('banana', 2), ('apple', 5)]\n"
     ]
    }
   ],
   "source": [
    "data = [(\"apple\", 5), (\"banana\", 2), (\"cherry\", 9)]\n",
    "\n",
    "data.sort(key=lambda x:x[0], reverse=True)\n",
    "print(\"sorted by Number : \", data)"
   ]
  }
 ],
 "metadata": {
  "kernelspec": {
   "display_name": "base",
   "language": "python",
   "name": "python3"
  },
  "language_info": {
   "codemirror_mode": {
    "name": "ipython",
    "version": 3
   },
   "file_extension": ".py",
   "mimetype": "text/x-python",
   "name": "python",
   "nbconvert_exporter": "python",
   "pygments_lexer": "ipython3",
   "version": "3.13.5"
  }
 },
 "nbformat": 4,
 "nbformat_minor": 5
}
