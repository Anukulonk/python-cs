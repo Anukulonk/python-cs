{
 "cells": [
  {
   "cell_type": "code",
   "execution_count": 47,
   "id": "1f78d1a4",
   "metadata": {},
   "outputs": [
    {
     "name": "stdout",
     "output_type": "stream",
     "text": [
      "1\n",
      "6\n",
      "9.1\n"
     ]
    }
   ],
   "source": [
    "a = 1\n",
    "b = 2\n",
    "c = 3\n",
    "d = a\n",
    "e = d + b\n",
    "f = \"Mrs. Anukul\"\n",
    "\n",
    "array_from_mysql = \"11.1\"\n",
    "g = 2\n",
    "total = float(array_from_mysql) - g\n",
    "print(a)\n",
    "\n",
    "a += 5\n",
    "print(a)\n",
    "\n",
    "print(total)"
   ]
  },
  {
   "cell_type": "code",
   "execution_count": null,
   "id": "e9b051c0",
   "metadata": {},
   "outputs": [
    {
     "name": "stdout",
     "output_type": "stream",
     "text": [
      "-15\n"
     ]
    }
   ],
   "source": [
    "def add(a, b):\n",
    "    c = a + b\n",
    "    return c\n",
    "\n",
    "def sub(a , b):\n",
    "    c = a - b\n",
    "    return c\n",
    "\n",
    "def mul(a , b):\n",
    "    c = a * b\n",
    "    return c\n",
    "\n",
    "def div(a , b):\n",
    "    c = a / b\n",
    "    return c\n",
    "\n",
    "a = int(input(\"Input A : \"))\n",
    "b = int(input(\"Input B : \"))\n",
    "\n",
    "c = mul(sub(a, b), add(a, b))\n",
    "print(c)"
   ]
  }
 ],
 "metadata": {
  "kernelspec": {
   "display_name": "base",
   "language": "python",
   "name": "python3"
  },
  "language_info": {
   "codemirror_mode": {
    "name": "ipython",
    "version": 3
   },
   "file_extension": ".py",
   "mimetype": "text/x-python",
   "name": "python",
   "nbconvert_exporter": "python",
   "pygments_lexer": "ipython3",
   "version": "3.13.5"
  }
 },
 "nbformat": 4,
 "nbformat_minor": 5
}
