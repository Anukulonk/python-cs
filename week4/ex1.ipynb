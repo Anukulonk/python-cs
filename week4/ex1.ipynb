{
 "cells": [
  {
   "cell_type": "code",
   "execution_count": 3,
   "id": "24949b89",
   "metadata": {},
   "outputs": [
    {
     "name": "stdout",
     "output_type": "stream",
     "text": [
      "Name : ยุ้ย Lastname : ยึ้ย Student ID : 2 คะแนนที่ได้ : 100 Grade : A\n",
      "Name : จุ๋ม Lastname : ิจิ๋ม Student ID : 50 คะแนนที่ได้ : 50 Grade : D\n"
     ]
    }
   ],
   "source": [
    "def cal_grade(point):\n",
    "        if(point >= 80):\n",
    "            return \"A\"\n",
    "        elif(point >= 75):\n",
    "            return \"B+\"\n",
    "        elif(point >= 70):\n",
    "            return \"B\"\n",
    "        elif(point >= 65):\n",
    "            return \"C+\"\n",
    "        elif(point >= 60):\n",
    "            return \"C\"\n",
    "        elif(point >= 55):\n",
    "            return \"D+\"\n",
    "        elif(point >= 50):\n",
    "            return \"D\"\n",
    "        else:\n",
    "            return \"E\"\n",
    "        \n",
    "\n",
    "count = 0\n",
    "stop = 2\n",
    "\n",
    "while(count < stop):\n",
    "\n",
    "        \n",
    "    NameSD = input(\"กรอกชื่อนักศึกษา : \")\n",
    "    LNameSD = input(\"กรอกนามสกุลนักศึกษา : \")\n",
    "    NumSD = input(\"กรอกรหัสนักศึกษา : \")\n",
    "    inp_point = input(\"กรุณากรอกคะแนน : \") #รับค่าเข้ามาเป็น str\n",
    "    if(inp_point.isdigit()):\n",
    "        point = float(inp_point) #แปลงค่าเป็น ....int/float => ex.float\n",
    "\n",
    "        if(point >= 0 and point <= 100):\n",
    "            cal_grade(point)\n",
    "            print(\"Name : \" + NameSD + \" Lastname : \" + LNameSD + \" Student ID : \" + NumSD + \" คะแนนที่ได้ : \" + inp_point + \" Grade : \" + cal_grade(point))\n",
    "\n",
    "        else:\n",
    "            print(\"เงื่อนไขในการกรอกข้อมูลผิดพลาด\")\n",
    "    else:\n",
    "        print(\"False\")\n",
    "    count += 1\n",
    "        "
   ]
  }
 ],
 "metadata": {
  "kernelspec": {
   "display_name": "base",
   "language": "python",
   "name": "python3"
  },
  "language_info": {
   "codemirror_mode": {
    "name": "ipython",
    "version": 3
   },
   "file_extension": ".py",
   "mimetype": "text/x-python",
   "name": "python",
   "nbconvert_exporter": "python",
   "pygments_lexer": "ipython3",
   "version": "3.13.5"
  }
 },
 "nbformat": 4,
 "nbformat_minor": 5
}
